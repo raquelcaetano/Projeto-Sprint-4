{
 "cells": [
  {
   "cell_type": "markdown",
   "metadata": {
    "id": "eAkbw7Ueuj8X"
   },
   "source": [
    "# Qual é o melhor plano?\n",
    "\n",
    "Você trabalha como analista para a empresa de telecomunicações Megaline. A empresa oferece aos clientes dois planos pré-pagos: Surf e Ultimate. O departamento comercial quer saber qual dos planos gera mais receita para ajustar o orçamento de publicidade.\n",
    "\n",
    "Você vai realizar uma análise preliminar dos planos com base em uma pequena seleção de clientes. Você terá dados de 500 clientes da Megaline: que clientes são, de onde eles são, qual plano usam e o número de chamadas e mensagens realizadas em 2018. Seu trabalho é analisar o comportamento dos clientes e determinar qual plano pré-pago gera mais receita."
   ]
  },
  {
   "cell_type": "markdown",
   "metadata": {
    "id": "lnomf-3Xuj8b"
   },
   "source": [
    "## Inicialização"
   ]
  },
  {
   "cell_type": "code",
   "execution_count": 1,
   "metadata": {
    "id": "JdJusn5ouj8c"
   },
   "outputs": [],
   "source": [
    "# Carregando todas as bibliotecas\n",
    "import pandas as pd\n",
    "from math import factorial\n",
    "import numpy as np\n",
    "import math as mt\n",
    "import matplotlib.pyplot as plt\n",
    "from scipy import stats as st\n",
    "import calendar"
   ]
  },
  {
   "cell_type": "markdown",
   "metadata": {
    "id": "rzqsCrgquj8d"
   },
   "source": [
    "## Carregue os dados"
   ]
  },
  {
   "cell_type": "code",
   "execution_count": 2,
   "metadata": {
    "id": "HmzmQRXIuj8e"
   },
   "outputs": [],
   "source": [
    "# Carregue os arquivos de dados em diferentes DataFrames\n",
    "megaline_calls = pd.read_csv ('/datasets/megaline_calls.csv')\n",
    "megaline_internet = pd.read_csv('/datasets/megaline_internet.csv')\n",
    "megaline_messages = pd.read_csv('/datasets/megaline_messages.csv')\n",
    "megaline_plans = pd.read_csv ('/datasets/megaline_plans.csv')\n",
    "megaline_users = pd.read_csv ('/datasets/megaline_users.csv')"
   ]
  },
  {
   "cell_type": "markdown",
   "metadata": {
    "id": "XQh-EeiIuj8e"
   },
   "source": [
    "## Prepare os dados"
   ]
  },
  {
   "cell_type": "code",
   "execution_count": 3,
   "metadata": {
    "id": "RmibJmmzuj8e"
   },
   "outputs": [
    {
     "name": "stdout",
     "output_type": "stream",
     "text": [
      "<class 'pandas.core.frame.DataFrame'>\n",
      "RangeIndex: 137735 entries, 0 to 137734\n",
      "Data columns (total 4 columns):\n",
      " #   Column     Non-Null Count   Dtype  \n",
      "---  ------     --------------   -----  \n",
      " 0   id         137735 non-null  object \n",
      " 1   user_id    137735 non-null  int64  \n",
      " 2   call_date  137735 non-null  object \n",
      " 3   duration   137735 non-null  float64\n",
      "dtypes: float64(1), int64(1), object(2)\n",
      "memory usage: 4.2+ MB\n",
      "              id  user_id   call_date  duration\n",
      "14728   1060_110     1060  2018-08-24       7.0\n",
      "129964  1467_200     1467  2018-12-22      11.0\n",
      "43192   1157_221     1157  2018-07-21       3.0\n",
      "12898    1056_41     1056  2018-08-12      12.0\n",
      "32887   1123_245     1123  2018-09-16       0.0\n",
      "53511   1192_438     1192  2018-10-25       5.0\n",
      "89355     1326_6     1326  2018-09-06      14.0\n",
      "12946    1056_89     1056  2018-12-15       0.0\n",
      "15987   1062_227     1062  2018-07-09       3.0\n",
      "122955  1434_267     1434  2018-11-27       7.0\n",
      "id           0\n",
      "user_id      0\n",
      "call_date    0\n",
      "duration     0\n",
      "dtype: int64\n",
      "0         False\n",
      "1         False\n",
      "2         False\n",
      "3         False\n",
      "4         False\n",
      "          ...  \n",
      "137730    False\n",
      "137731    False\n",
      "137732    False\n",
      "137733    False\n",
      "137734    False\n",
      "Length: 137735, dtype: bool\n"
     ]
    }
   ],
   "source": [
    "megaline_calls.info()\n",
    "megaline_calls['duration'] = np.ceil(megaline_calls ['duration'])\n",
    "print (megaline_calls.sample(10))\n",
    "print (megaline_calls.isna().sum())\n",
    "print (megaline_calls.duplicated())\n",
    "#Os dados não tem duplicados ou valores ausentes. Arredondei a duração da chamada para cima. Fiz um teste antes transformando os segundos em minutos mas a maioria dos valores ficou 0.0, estaria certo?"
   ]
  },
  {
   "cell_type": "code",
   "execution_count": 4,
   "metadata": {},
   "outputs": [
    {
     "name": "stdout",
     "output_type": "stream",
     "text": [
      "<class 'pandas.core.frame.DataFrame'>\n",
      "RangeIndex: 104825 entries, 0 to 104824\n",
      "Data columns (total 4 columns):\n",
      " #   Column        Non-Null Count   Dtype  \n",
      "---  ------        --------------   -----  \n",
      " 0   id            104825 non-null  object \n",
      " 1   user_id       104825 non-null  int64  \n",
      " 2   session_date  104825 non-null  object \n",
      " 3   mb_used       104825 non-null  float64\n",
      "dtypes: float64(1), int64(1), object(2)\n",
      "memory usage: 3.2+ MB\n",
      "             id  user_id session_date  gb_used\n",
      "54084  1245_117     1245   2018-07-21     88.0\n",
      "68108   1317_58     1317   2018-12-10      0.0\n",
      "14323  1066_215     1066   2018-03-12    307.0\n",
      "98529   1466_10     1466   2018-10-07     26.0\n",
      "22885   1106_74     1106   2018-06-24    635.0\n",
      "93903  1438_145     1438   2018-12-27    343.0\n",
      "84654   1395_19     1395   2018-12-10    270.0\n",
      "62134   1283_32     1283   2018-12-15    833.0\n",
      "73483   1346_63     1346   2018-07-23     38.0\n",
      "75587   1356_35     1356   2018-12-16    120.0\n",
      "id              0\n",
      "user_id         0\n",
      "session_date    0\n",
      "gb_used         0\n",
      "dtype: int64\n",
      "0         False\n",
      "1         False\n",
      "2         False\n",
      "3         False\n",
      "4         False\n",
      "          ...  \n",
      "104820    False\n",
      "104821    False\n",
      "104822    False\n",
      "104823    False\n",
      "104824    False\n",
      "Length: 104825, dtype: bool\n"
     ]
    }
   ],
   "source": [
    "megaline_internet.info() \n",
    "megaline_internet['gb_used'] = megaline_internet.pop('mb_used') #Troquei MG por GB\n",
    "megaline_internet['gb_used'] = np.ceil(megaline_internet ['gb_used']) #Arredondei para cima\n",
    "print (megaline_internet.sample(10))\n",
    "print (megaline_internet.isna().sum())\n",
    "print (megaline_internet.duplicated())"
   ]
  },
  {
   "cell_type": "code",
   "execution_count": 5,
   "metadata": {},
   "outputs": [
    {
     "name": "stdout",
     "output_type": "stream",
     "text": [
      "<class 'pandas.core.frame.DataFrame'>\n",
      "RangeIndex: 76051 entries, 0 to 76050\n",
      "Data columns (total 3 columns):\n",
      " #   Column        Non-Null Count  Dtype \n",
      "---  ------        --------------  ----- \n",
      " 0   id            76051 non-null  object\n",
      " 1   user_id       76051 non-null  int64 \n",
      " 2   message_date  76051 non-null  object\n",
      "dtypes: int64(1), object(2)\n",
      "memory usage: 1.7+ MB\n",
      "             id  user_id message_date\n",
      "2596   1028_519     1028   2018-11-14\n",
      "1104    1011_67     1011   2018-07-10\n",
      "60242  1381_355     1381   2018-12-30\n",
      "61286  1384_384     1384   2018-11-21\n",
      "12122  1080_125     1080   2018-11-29\n",
      "55073  1347_110     1347   2018-12-10\n",
      "53782   1341_58     1341   2018-10-30\n",
      "44988   1302_93     1302   2018-11-27\n",
      "2695   1028_621     1028   2018-03-24\n",
      "50892   1331_67     1331   2018-11-25\n",
      "id              0\n",
      "user_id         0\n",
      "message_date    0\n",
      "dtype: int64\n",
      "0        False\n",
      "1        False\n",
      "2        False\n",
      "3        False\n",
      "4        False\n",
      "         ...  \n",
      "76046    False\n",
      "76047    False\n",
      "76048    False\n",
      "76049    False\n",
      "76050    False\n",
      "Length: 76051, dtype: bool\n"
     ]
    }
   ],
   "source": [
    "megaline_messages.info()\n",
    "print (megaline_messages.sample(10))\n",
    "print (megaline_messages.isna().sum())\n",
    "print (megaline_messages.duplicated())"
   ]
  },
  {
   "cell_type": "code",
   "execution_count": 6,
   "metadata": {},
   "outputs": [
    {
     "name": "stdout",
     "output_type": "stream",
     "text": [
      "<class 'pandas.core.frame.DataFrame'>\n",
      "RangeIndex: 2 entries, 0 to 1\n",
      "Data columns (total 8 columns):\n",
      " #   Column                 Non-Null Count  Dtype  \n",
      "---  ------                 --------------  -----  \n",
      " 0   messages_included      2 non-null      int64  \n",
      " 1   mb_per_month_included  2 non-null      int64  \n",
      " 2   minutes_included       2 non-null      int64  \n",
      " 3   usd_monthly_pay        2 non-null      int64  \n",
      " 4   usd_per_gb             2 non-null      int64  \n",
      " 5   usd_per_message        2 non-null      float64\n",
      " 6   usd_per_minute         2 non-null      float64\n",
      " 7   plan_name              2 non-null      object \n",
      "dtypes: float64(2), int64(5), object(1)\n",
      "memory usage: 256.0+ bytes\n",
      "   messages_included  mb_per_month_included  minutes_included  \\\n",
      "0                 50                  15360               500   \n",
      "\n",
      "   usd_monthly_pay  usd_per_gb  usd_per_message  usd_per_minute plan_name  \n",
      "0               20          10             0.03            0.03      surf  \n",
      "messages_included        0\n",
      "mb_per_month_included    0\n",
      "minutes_included         0\n",
      "usd_monthly_pay          0\n",
      "usd_per_gb               0\n",
      "usd_per_message          0\n",
      "usd_per_minute           0\n",
      "plan_name                0\n",
      "dtype: int64\n",
      "0    False\n",
      "1    False\n",
      "dtype: bool\n"
     ]
    }
   ],
   "source": [
    "megaline_plans.info()\n",
    "print (megaline_plans.sample())\n",
    "print (megaline_plans.isna().sum())\n",
    "print (megaline_plans.duplicated())"
   ]
  },
  {
   "cell_type": "code",
   "execution_count": 7,
   "metadata": {},
   "outputs": [
    {
     "name": "stdout",
     "output_type": "stream",
     "text": [
      "<class 'pandas.core.frame.DataFrame'>\n",
      "RangeIndex: 500 entries, 0 to 499\n",
      "Data columns (total 8 columns):\n",
      " #   Column      Non-Null Count  Dtype \n",
      "---  ------      --------------  ----- \n",
      " 0   user_id     500 non-null    int64 \n",
      " 1   first_name  500 non-null    object\n",
      " 2   last_name   500 non-null    object\n",
      " 3   age         500 non-null    int64 \n",
      " 4   city        500 non-null    object\n",
      " 5   reg_date    500 non-null    object\n",
      " 6   plan        500 non-null    object\n",
      " 7   churn_date  34 non-null     object\n",
      "dtypes: int64(2), object(6)\n",
      "memory usage: 31.4+ KB\n",
      "     user_id first_name   last_name  age  \\\n",
      "120     1120    Abraham   Mcconnell   33   \n",
      "305     1305      Gwenn       Gross   18   \n",
      "387     1387   Raymonde        Lowe   28   \n",
      "487     1487      Elton     Simpson   18   \n",
      "95      1095    Lilliam    Alvarado   55   \n",
      "97      1097    Deandre      Powell   27   \n",
      "231     1231    Gaylord        Witt   57   \n",
      "56      1056      Denis    Chandler   33   \n",
      "447     1447      Ramon      Hester   62   \n",
      "92      1092      Taren  Strickland   26   \n",
      "\n",
      "                                                 city    reg_date      plan  \\\n",
      "120         New York-Newark-Jersey City, NY-NJ-PA MSA  2018-04-03      surf   \n",
      "305            Los Angeles-Long Beach-Anaheim, CA MSA  2018-05-08      surf   \n",
      "387               Bridgeport-Stamford-Norwalk, CT MSA  2018-05-25      surf   \n",
      "487                     Cape Coral-Fort Myers, FL MSA  2018-08-16  ultimate   \n",
      "95             Louisville/Jefferson County, KY-IN MSA  2018-04-21      surf   \n",
      "97   Washington-Arlington-Alexandria, DC-VA-MD-WV MSA  2018-02-26      surf   \n",
      "231            San Jose-Sunnyvale-Santa Clara, CA MSA  2018-01-19  ultimate   \n",
      "56                           Cincinnati, OH-KY-IN MSA  2018-03-01      surf   \n",
      "447                 Orlando-Kissimmee-Sanford, FL MSA  2018-05-01      surf   \n",
      "92                Dallas-Fort Worth-Arlington, TX MSA  2018-12-10      surf   \n",
      "\n",
      "    churn_date  \n",
      "120        NaN  \n",
      "305        NaN  \n",
      "387        NaN  \n",
      "487        NaN  \n",
      "95         NaN  \n",
      "97         NaN  \n",
      "231        NaN  \n",
      "56         NaN  \n",
      "447        NaN  \n",
      "92         NaN  \n",
      "user_id         0\n",
      "first_name      0\n",
      "last_name       0\n",
      "age             0\n",
      "city            0\n",
      "reg_date        0\n",
      "plan            0\n",
      "churn_date    466\n",
      "dtype: int64\n",
      "0      False\n",
      "1      False\n",
      "2      False\n",
      "3      False\n",
      "4      False\n",
      "       ...  \n",
      "495    False\n",
      "496    False\n",
      "497    False\n",
      "498    False\n",
      "499    False\n",
      "Length: 500, dtype: bool\n"
     ]
    }
   ],
   "source": [
    "megaline_users.info()\n",
    "print (megaline_users.sample(10))\n",
    "print (megaline_users.isna().sum())\n",
    "print (megaline_users.duplicated())\n",
    "#Aqui existe dados Nan, pois indica que o usuário ainda está a usar o plano, não cancelou. "
   ]
  },
  {
   "cell_type": "markdown",
   "metadata": {
    "id": "TlZUw_Cyuj8f"
   },
   "source": [
    "## Planos"
   ]
  },
  {
   "cell_type": "code",
   "execution_count": 8,
   "metadata": {
    "id": "x9qB5mAOuj8f"
   },
   "outputs": [
    {
     "name": "stdout",
     "output_type": "stream",
     "text": [
      "<class 'pandas.core.frame.DataFrame'>\n",
      "RangeIndex: 2 entries, 0 to 1\n",
      "Data columns (total 8 columns):\n",
      " #   Column                 Non-Null Count  Dtype  \n",
      "---  ------                 --------------  -----  \n",
      " 0   messages_included      2 non-null      int64  \n",
      " 1   mb_per_month_included  2 non-null      int64  \n",
      " 2   minutes_included       2 non-null      int64  \n",
      " 3   usd_monthly_pay        2 non-null      int64  \n",
      " 4   usd_per_gb             2 non-null      int64  \n",
      " 5   usd_per_message        2 non-null      float64\n",
      " 6   usd_per_minute         2 non-null      float64\n",
      " 7   plan_name              2 non-null      object \n",
      "dtypes: float64(2), int64(5), object(1)\n",
      "memory usage: 256.0+ bytes\n"
     ]
    }
   ],
   "source": [
    "# Imprima informações gerais/resumo sobre o DataFrame dos planos\n",
    "megaline_plans.info()"
   ]
  },
  {
   "cell_type": "code",
   "execution_count": 9,
   "metadata": {
    "id": "9MRo7tyVuj8f"
   },
   "outputs": [
    {
     "name": "stdout",
     "output_type": "stream",
     "text": [
      "   messages_included  mb_per_month_included  minutes_included  \\\n",
      "0                 50                  15360               500   \n",
      "1               1000                  30720              3000   \n",
      "\n",
      "   usd_monthly_pay  usd_per_gb  usd_per_message  usd_per_minute plan_name  \n",
      "0               20          10             0.03            0.03      surf  \n",
      "1               70           7             0.01            0.01  ultimate  \n"
     ]
    }
   ],
   "source": [
    "# Imprima uma amostra de dados dos planos\n",
    "print (megaline_plans.head())\n"
   ]
  },
  {
   "cell_type": "markdown",
   "metadata": {
    "id": "P8hzr-lquj8f"
   },
   "source": [
    "**Notas:** Só existem dois planos, portanto em relação a isso está correto. A tabela não aparenta ter dados nulos ou ausentes, entretanto a coluna \"mb_per_month_included\" deveria estar em gb conforme solicitado pela empresa."
   ]
  },
  {
   "cell_type": "markdown",
   "metadata": {
    "collapsed": false,
    "id": "KXtaxmKsuj8f",
    "jupyter": {
     "outputs_hidden": false
    }
   },
   "source": [
    "## Corrija os dados"
   ]
  },
  {
   "cell_type": "markdown",
   "metadata": {
    "id": "9BWuM80Buj8f"
   },
   "source": [
    "[Corrija problemas óbvios com os dados conforme as observações iniciais.]"
   ]
  },
  {
   "cell_type": "code",
   "execution_count": 10,
   "metadata": {},
   "outputs": [
    {
     "data": {
      "text/html": [
       "<div>\n",
       "<style scoped>\n",
       "    .dataframe tbody tr th:only-of-type {\n",
       "        vertical-align: middle;\n",
       "    }\n",
       "\n",
       "    .dataframe tbody tr th {\n",
       "        vertical-align: top;\n",
       "    }\n",
       "\n",
       "    .dataframe thead th {\n",
       "        text-align: right;\n",
       "    }\n",
       "</style>\n",
       "<table border=\"1\" class=\"dataframe\">\n",
       "  <thead>\n",
       "    <tr style=\"text-align: right;\">\n",
       "      <th></th>\n",
       "      <th>messages_included</th>\n",
       "      <th>minutes_included</th>\n",
       "      <th>usd_monthly_pay</th>\n",
       "      <th>usd_per_gb</th>\n",
       "      <th>usd_per_message</th>\n",
       "      <th>usd_per_minute</th>\n",
       "      <th>plan_name</th>\n",
       "      <th>gb_per_month_included</th>\n",
       "    </tr>\n",
       "  </thead>\n",
       "  <tbody>\n",
       "    <tr>\n",
       "      <th>0</th>\n",
       "      <td>50</td>\n",
       "      <td>500</td>\n",
       "      <td>20</td>\n",
       "      <td>10</td>\n",
       "      <td>0.03</td>\n",
       "      <td>0.03</td>\n",
       "      <td>surf</td>\n",
       "      <td>15.0</td>\n",
       "    </tr>\n",
       "    <tr>\n",
       "      <th>1</th>\n",
       "      <td>1000</td>\n",
       "      <td>3000</td>\n",
       "      <td>70</td>\n",
       "      <td>7</td>\n",
       "      <td>0.01</td>\n",
       "      <td>0.01</td>\n",
       "      <td>ultimate</td>\n",
       "      <td>30.0</td>\n",
       "    </tr>\n",
       "  </tbody>\n",
       "</table>\n",
       "</div>"
      ],
      "text/plain": [
       "   messages_included  minutes_included  usd_monthly_pay  usd_per_gb  \\\n",
       "0                 50               500               20          10   \n",
       "1               1000              3000               70           7   \n",
       "\n",
       "   usd_per_message  usd_per_minute plan_name  gb_per_month_included  \n",
       "0             0.03            0.03      surf                   15.0  \n",
       "1             0.01            0.01  ultimate                   30.0  "
      ]
     },
     "execution_count": 10,
     "metadata": {},
     "output_type": "execute_result"
    }
   ],
   "source": [
    "megaline_plans['gb_per_month_included'] = megaline_plans.pop('mb_per_month_included') / 1024\n",
    "megaline_plans.head()"
   ]
  },
  {
   "cell_type": "markdown",
   "metadata": {
    "id": "YJg2O9qjuj8g"
   },
   "source": [
    "## Usuários"
   ]
  },
  {
   "cell_type": "code",
   "execution_count": 11,
   "metadata": {
    "id": "7JzxwD2juj8g"
   },
   "outputs": [
    {
     "name": "stdout",
     "output_type": "stream",
     "text": [
      "<class 'pandas.core.frame.DataFrame'>\n",
      "RangeIndex: 500 entries, 0 to 499\n",
      "Data columns (total 8 columns):\n",
      " #   Column      Non-Null Count  Dtype \n",
      "---  ------      --------------  ----- \n",
      " 0   user_id     500 non-null    int64 \n",
      " 1   first_name  500 non-null    object\n",
      " 2   last_name   500 non-null    object\n",
      " 3   age         500 non-null    int64 \n",
      " 4   city        500 non-null    object\n",
      " 5   reg_date    500 non-null    object\n",
      " 6   plan        500 non-null    object\n",
      " 7   churn_date  34 non-null     object\n",
      "dtypes: int64(2), object(6)\n",
      "memory usage: 31.4+ KB\n"
     ]
    }
   ],
   "source": [
    "# Imprima informações gerais/resumo sobre o DataFrame dos usuários\n",
    "megaline_users.info()"
   ]
  },
  {
   "cell_type": "code",
   "execution_count": 12,
   "metadata": {
    "id": "5KZ8XmD8uj8g"
   },
   "outputs": [
    {
     "data": {
      "text/html": [
       "<div>\n",
       "<style scoped>\n",
       "    .dataframe tbody tr th:only-of-type {\n",
       "        vertical-align: middle;\n",
       "    }\n",
       "\n",
       "    .dataframe tbody tr th {\n",
       "        vertical-align: top;\n",
       "    }\n",
       "\n",
       "    .dataframe thead th {\n",
       "        text-align: right;\n",
       "    }\n",
       "</style>\n",
       "<table border=\"1\" class=\"dataframe\">\n",
       "  <thead>\n",
       "    <tr style=\"text-align: right;\">\n",
       "      <th></th>\n",
       "      <th>user_id</th>\n",
       "      <th>first_name</th>\n",
       "      <th>last_name</th>\n",
       "      <th>age</th>\n",
       "      <th>city</th>\n",
       "      <th>reg_date</th>\n",
       "      <th>plan</th>\n",
       "      <th>churn_date</th>\n",
       "    </tr>\n",
       "  </thead>\n",
       "  <tbody>\n",
       "    <tr>\n",
       "      <th>395</th>\n",
       "      <td>1395</td>\n",
       "      <td>Leonard</td>\n",
       "      <td>Wooten</td>\n",
       "      <td>24</td>\n",
       "      <td>New York-Newark-Jersey City, NY-NJ-PA MSA</td>\n",
       "      <td>2018-06-19</td>\n",
       "      <td>ultimate</td>\n",
       "      <td>NaN</td>\n",
       "    </tr>\n",
       "    <tr>\n",
       "      <th>459</th>\n",
       "      <td>1459</td>\n",
       "      <td>Santos</td>\n",
       "      <td>Head</td>\n",
       "      <td>40</td>\n",
       "      <td>San Francisco-Oakland-Berkeley, CA MSA</td>\n",
       "      <td>2018-04-27</td>\n",
       "      <td>ultimate</td>\n",
       "      <td>NaN</td>\n",
       "    </tr>\n",
       "    <tr>\n",
       "      <th>204</th>\n",
       "      <td>1204</td>\n",
       "      <td>Sherly</td>\n",
       "      <td>Levy</td>\n",
       "      <td>44</td>\n",
       "      <td>Chicago-Naperville-Elgin, IL-IN-WI MSA</td>\n",
       "      <td>2018-08-20</td>\n",
       "      <td>ultimate</td>\n",
       "      <td>NaN</td>\n",
       "    </tr>\n",
       "    <tr>\n",
       "      <th>252</th>\n",
       "      <td>1252</td>\n",
       "      <td>Mitsue</td>\n",
       "      <td>York</td>\n",
       "      <td>27</td>\n",
       "      <td>Detroit-Warren-Dearborn, MI MSA</td>\n",
       "      <td>2018-06-10</td>\n",
       "      <td>surf</td>\n",
       "      <td>NaN</td>\n",
       "    </tr>\n",
       "    <tr>\n",
       "      <th>11</th>\n",
       "      <td>1011</td>\n",
       "      <td>Halina</td>\n",
       "      <td>Henry</td>\n",
       "      <td>73</td>\n",
       "      <td>Cleveland-Elyria, OH MSA</td>\n",
       "      <td>2018-01-18</td>\n",
       "      <td>ultimate</td>\n",
       "      <td>NaN</td>\n",
       "    </tr>\n",
       "  </tbody>\n",
       "</table>\n",
       "</div>"
      ],
      "text/plain": [
       "     user_id first_name last_name  age  \\\n",
       "395     1395    Leonard    Wooten   24   \n",
       "459     1459     Santos      Head   40   \n",
       "204     1204     Sherly      Levy   44   \n",
       "252     1252     Mitsue      York   27   \n",
       "11      1011     Halina     Henry   73   \n",
       "\n",
       "                                          city    reg_date      plan  \\\n",
       "395  New York-Newark-Jersey City, NY-NJ-PA MSA  2018-06-19  ultimate   \n",
       "459     San Francisco-Oakland-Berkeley, CA MSA  2018-04-27  ultimate   \n",
       "204     Chicago-Naperville-Elgin, IL-IN-WI MSA  2018-08-20  ultimate   \n",
       "252            Detroit-Warren-Dearborn, MI MSA  2018-06-10      surf   \n",
       "11                    Cleveland-Elyria, OH MSA  2018-01-18  ultimate   \n",
       "\n",
       "    churn_date  \n",
       "395        NaN  \n",
       "459        NaN  \n",
       "204        NaN  \n",
       "252        NaN  \n",
       "11         NaN  "
      ]
     },
     "execution_count": 12,
     "metadata": {},
     "output_type": "execute_result"
    }
   ],
   "source": [
    "# Imprima uma amostra de dados dos usuários\n",
    "megaline_users.sample(5) #preferi usar o 'sample' para ser mais aleatório"
   ]
  },
  {
   "cell_type": "markdown",
   "metadata": {
    "id": "XGCgkfLvuj8h"
   },
   "source": [
    "[Descreva o que você nota sobre as informações gerais e sobre a amostra de dados impressa acima. Existem problemas (tipos de dados inadequados, dados ausentes, etc.) que precisam de mais investigação e alterações? Como isso pode ser corrigido?]"
   ]
  },
  {
   "cell_type": "markdown",
   "metadata": {},
   "source": [
    "**Nota:** Na amostra de dados, podemos pereber que 4 dos 5 clientes adotaram o plano \"surf\" em vez do \"ultimame\". As idades são bem variadas, indo de 28 a 52.A coluna churn_date tem muitos valores \"NaN\" em razão dos planos ainda não terem acabados, pensando nisso, acredito que seja melhor trocar \"NaN\" por algo como \"Ainda ativo\", \"Em andamento\" para um melhor entendimento."
   ]
  },
  {
   "cell_type": "markdown",
   "metadata": {
    "id": "ppiEfe3luj8i"
   },
   "source": [
    "### Corrija os dados"
   ]
  },
  {
   "cell_type": "markdown",
   "metadata": {
    "id": "os4Gubp_uj8j"
   },
   "source": [
    "[Corrija problemas óbvios com os dados conforme as observações iniciais.]"
   ]
  },
  {
   "cell_type": "code",
   "execution_count": 13,
   "metadata": {
    "id": "Oa1XFooouj8j"
   },
   "outputs": [
    {
     "data": {
      "text/html": [
       "<div>\n",
       "<style scoped>\n",
       "    .dataframe tbody tr th:only-of-type {\n",
       "        vertical-align: middle;\n",
       "    }\n",
       "\n",
       "    .dataframe tbody tr th {\n",
       "        vertical-align: top;\n",
       "    }\n",
       "\n",
       "    .dataframe thead th {\n",
       "        text-align: right;\n",
       "    }\n",
       "</style>\n",
       "<table border=\"1\" class=\"dataframe\">\n",
       "  <thead>\n",
       "    <tr style=\"text-align: right;\">\n",
       "      <th></th>\n",
       "      <th>user_id</th>\n",
       "      <th>first_name</th>\n",
       "      <th>last_name</th>\n",
       "      <th>age</th>\n",
       "      <th>city</th>\n",
       "      <th>reg_date</th>\n",
       "      <th>plan</th>\n",
       "      <th>churn_date</th>\n",
       "    </tr>\n",
       "  </thead>\n",
       "  <tbody>\n",
       "    <tr>\n",
       "      <th>103</th>\n",
       "      <td>1103</td>\n",
       "      <td>Moises</td>\n",
       "      <td>Weeks</td>\n",
       "      <td>28</td>\n",
       "      <td>Seattle-Tacoma-Bellevue, WA MSA</td>\n",
       "      <td>2018-07-01</td>\n",
       "      <td>surf</td>\n",
       "      <td>Plano ainda ativo</td>\n",
       "    </tr>\n",
       "    <tr>\n",
       "      <th>404</th>\n",
       "      <td>1404</td>\n",
       "      <td>Paulita</td>\n",
       "      <td>Conley</td>\n",
       "      <td>33</td>\n",
       "      <td>New York-Newark-Jersey City, NY-NJ-PA MSA</td>\n",
       "      <td>2018-04-16</td>\n",
       "      <td>surf</td>\n",
       "      <td>Plano ainda ativo</td>\n",
       "    </tr>\n",
       "    <tr>\n",
       "      <th>498</th>\n",
       "      <td>1498</td>\n",
       "      <td>Scot</td>\n",
       "      <td>Williamson</td>\n",
       "      <td>51</td>\n",
       "      <td>New York-Newark-Jersey City, NY-NJ-PA MSA</td>\n",
       "      <td>2018-02-04</td>\n",
       "      <td>surf</td>\n",
       "      <td>Plano ainda ativo</td>\n",
       "    </tr>\n",
       "    <tr>\n",
       "      <th>414</th>\n",
       "      <td>1414</td>\n",
       "      <td>Georgianne</td>\n",
       "      <td>Herring</td>\n",
       "      <td>30</td>\n",
       "      <td>Urban Honolulu, HI MSA</td>\n",
       "      <td>2018-03-03</td>\n",
       "      <td>surf</td>\n",
       "      <td>2018-09-01</td>\n",
       "    </tr>\n",
       "    <tr>\n",
       "      <th>316</th>\n",
       "      <td>1316</td>\n",
       "      <td>Lucilla</td>\n",
       "      <td>Weeks</td>\n",
       "      <td>59</td>\n",
       "      <td>Tulsa, OK MSA</td>\n",
       "      <td>2018-05-21</td>\n",
       "      <td>surf</td>\n",
       "      <td>Plano ainda ativo</td>\n",
       "    </tr>\n",
       "  </tbody>\n",
       "</table>\n",
       "</div>"
      ],
      "text/plain": [
       "     user_id  first_name   last_name  age  \\\n",
       "103     1103      Moises       Weeks   28   \n",
       "404     1404     Paulita      Conley   33   \n",
       "498     1498        Scot  Williamson   51   \n",
       "414     1414  Georgianne     Herring   30   \n",
       "316     1316     Lucilla       Weeks   59   \n",
       "\n",
       "                                          city    reg_date  plan  \\\n",
       "103            Seattle-Tacoma-Bellevue, WA MSA  2018-07-01  surf   \n",
       "404  New York-Newark-Jersey City, NY-NJ-PA MSA  2018-04-16  surf   \n",
       "498  New York-Newark-Jersey City, NY-NJ-PA MSA  2018-02-04  surf   \n",
       "414                     Urban Honolulu, HI MSA  2018-03-03  surf   \n",
       "316                              Tulsa, OK MSA  2018-05-21  surf   \n",
       "\n",
       "            churn_date  \n",
       "103  Plano ainda ativo  \n",
       "404  Plano ainda ativo  \n",
       "498  Plano ainda ativo  \n",
       "414         2018-09-01  \n",
       "316  Plano ainda ativo  "
      ]
     },
     "execution_count": 13,
     "metadata": {},
     "output_type": "execute_result"
    }
   ],
   "source": [
    "megaline_users['churn_date'] = megaline_users['churn_date'].fillna('Plano ainda ativo')\n",
    "megaline_users.sample(5) #preferi usar o 'sample' para ser mais aleatório"
   ]
  },
  {
   "cell_type": "markdown",
   "metadata": {
    "id": "f4uSIMuuuj8j"
   },
   "source": [
    "## Chamadas"
   ]
  },
  {
   "cell_type": "code",
   "execution_count": 14,
   "metadata": {
    "id": "hkY01fJnuj8j"
   },
   "outputs": [
    {
     "name": "stdout",
     "output_type": "stream",
     "text": [
      "<class 'pandas.core.frame.DataFrame'>\n",
      "RangeIndex: 137735 entries, 0 to 137734\n",
      "Data columns (total 4 columns):\n",
      " #   Column     Non-Null Count   Dtype  \n",
      "---  ------     --------------   -----  \n",
      " 0   id         137735 non-null  object \n",
      " 1   user_id    137735 non-null  int64  \n",
      " 2   call_date  137735 non-null  object \n",
      " 3   duration   137735 non-null  float64\n",
      "dtypes: float64(1), int64(1), object(2)\n",
      "memory usage: 4.2+ MB\n"
     ]
    }
   ],
   "source": [
    "# Imprima informações gerais/resumo sobre o DataFrame das chamadas\n",
    "megaline_calls.info()"
   ]
  },
  {
   "cell_type": "code",
   "execution_count": 15,
   "metadata": {
    "id": "wdBwJG5Yuj8k"
   },
   "outputs": [
    {
     "data": {
      "text/html": [
       "<div>\n",
       "<style scoped>\n",
       "    .dataframe tbody tr th:only-of-type {\n",
       "        vertical-align: middle;\n",
       "    }\n",
       "\n",
       "    .dataframe tbody tr th {\n",
       "        vertical-align: top;\n",
       "    }\n",
       "\n",
       "    .dataframe thead th {\n",
       "        text-align: right;\n",
       "    }\n",
       "</style>\n",
       "<table border=\"1\" class=\"dataframe\">\n",
       "  <thead>\n",
       "    <tr style=\"text-align: right;\">\n",
       "      <th></th>\n",
       "      <th>id</th>\n",
       "      <th>user_id</th>\n",
       "      <th>call_date</th>\n",
       "      <th>duration</th>\n",
       "    </tr>\n",
       "  </thead>\n",
       "  <tbody>\n",
       "    <tr>\n",
       "      <th>51724</th>\n",
       "      <td>1185_762</td>\n",
       "      <td>1185</td>\n",
       "      <td>2018-10-22</td>\n",
       "      <td>2.0</td>\n",
       "    </tr>\n",
       "    <tr>\n",
       "      <th>90472</th>\n",
       "      <td>1328_102</td>\n",
       "      <td>1328</td>\n",
       "      <td>2018-09-04</td>\n",
       "      <td>8.0</td>\n",
       "    </tr>\n",
       "    <tr>\n",
       "      <th>135143</th>\n",
       "      <td>1490_243</td>\n",
       "      <td>1490</td>\n",
       "      <td>2018-10-30</td>\n",
       "      <td>4.0</td>\n",
       "    </tr>\n",
       "    <tr>\n",
       "      <th>128380</th>\n",
       "      <td>1460_532</td>\n",
       "      <td>1460</td>\n",
       "      <td>2018-06-27</td>\n",
       "      <td>9.0</td>\n",
       "    </tr>\n",
       "    <tr>\n",
       "      <th>117410</th>\n",
       "      <td>1411_2</td>\n",
       "      <td>1411</td>\n",
       "      <td>2018-12-09</td>\n",
       "      <td>15.0</td>\n",
       "    </tr>\n",
       "  </tbody>\n",
       "</table>\n",
       "</div>"
      ],
      "text/plain": [
       "              id  user_id   call_date  duration\n",
       "51724   1185_762     1185  2018-10-22       2.0\n",
       "90472   1328_102     1328  2018-09-04       8.0\n",
       "135143  1490_243     1490  2018-10-30       4.0\n",
       "128380  1460_532     1460  2018-06-27       9.0\n",
       "117410    1411_2     1411  2018-12-09      15.0"
      ]
     },
     "execution_count": 15,
     "metadata": {},
     "output_type": "execute_result"
    }
   ],
   "source": [
    "# Imprima uma amostra de dados das chamadas\n",
    "megaline_calls.sample(5) #preferi usar o 'sample' para ser mais aleatório"
   ]
  },
  {
   "cell_type": "markdown",
   "metadata": {
    "id": "Y8An85-Tuj8k"
   },
   "source": [
    "[Descreva o que você nota sobre as informações gerais e sobre a amostra de dados impressa acima. Existem problemas (tipos de dados inadequados, dados ausentes, etc.) que precisam de mais investigação e alterações? Como isso pode ser corrigido?]"
   ]
  },
  {
   "cell_type": "markdown",
   "metadata": {},
   "source": [
    "**Notas:** Os dados paracem adequados, anteriormente arredondei os valores de \"duration\" para cima.\". Não existem valores ausentes (como verificado anteriormente). A data está organizada de forma entendível, por aaaa-mm-dd."
   ]
  },
  {
   "cell_type": "markdown",
   "metadata": {
    "id": "x5a99U4xuj8k"
   },
   "source": [
    "### Corrija os dados"
   ]
  },
  {
   "cell_type": "markdown",
   "metadata": {
    "id": "MQqkU83Xuj8k"
   },
   "source": [
    "[Corrija problemas óbvios com os dados conforme as observações iniciais.]"
   ]
  },
  {
   "cell_type": "code",
   "execution_count": 16,
   "metadata": {
    "id": "lBjdw0Bnuj8l"
   },
   "outputs": [],
   "source": [
    "megaline_calls['call_date'] = pd.to_datetime (megaline_calls['call_date'])"
   ]
  },
  {
   "cell_type": "markdown",
   "metadata": {
    "id": "qLz4FkyRuj8l"
   },
   "source": [
    "## Mensagens"
   ]
  },
  {
   "cell_type": "code",
   "execution_count": 17,
   "metadata": {
    "id": "nFA9DFkCuj8l"
   },
   "outputs": [
    {
     "name": "stdout",
     "output_type": "stream",
     "text": [
      "<class 'pandas.core.frame.DataFrame'>\n",
      "RangeIndex: 76051 entries, 0 to 76050\n",
      "Data columns (total 3 columns):\n",
      " #   Column        Non-Null Count  Dtype \n",
      "---  ------        --------------  ----- \n",
      " 0   id            76051 non-null  object\n",
      " 1   user_id       76051 non-null  int64 \n",
      " 2   message_date  76051 non-null  object\n",
      "dtypes: int64(1), object(2)\n",
      "memory usage: 1.7+ MB\n"
     ]
    }
   ],
   "source": [
    "# Imprima informações gerais/resumo sobre o DataFrame das mensagens\n",
    "megaline_messages.info()"
   ]
  },
  {
   "cell_type": "code",
   "execution_count": 18,
   "metadata": {
    "id": "ysEFBZWxuj8m"
   },
   "outputs": [
    {
     "data": {
      "text/html": [
       "<div>\n",
       "<style scoped>\n",
       "    .dataframe tbody tr th:only-of-type {\n",
       "        vertical-align: middle;\n",
       "    }\n",
       "\n",
       "    .dataframe tbody tr th {\n",
       "        vertical-align: top;\n",
       "    }\n",
       "\n",
       "    .dataframe thead th {\n",
       "        text-align: right;\n",
       "    }\n",
       "</style>\n",
       "<table border=\"1\" class=\"dataframe\">\n",
       "  <thead>\n",
       "    <tr style=\"text-align: right;\">\n",
       "      <th></th>\n",
       "      <th>id</th>\n",
       "      <th>user_id</th>\n",
       "      <th>message_date</th>\n",
       "    </tr>\n",
       "  </thead>\n",
       "  <tbody>\n",
       "    <tr>\n",
       "      <th>64417</th>\n",
       "      <td>1410_82</td>\n",
       "      <td>1410</td>\n",
       "      <td>2018-12-19</td>\n",
       "    </tr>\n",
       "    <tr>\n",
       "      <th>1574</th>\n",
       "      <td>1016_28</td>\n",
       "      <td>1016</td>\n",
       "      <td>2018-11-29</td>\n",
       "    </tr>\n",
       "    <tr>\n",
       "      <th>64736</th>\n",
       "      <td>1412_318</td>\n",
       "      <td>1412</td>\n",
       "      <td>2018-12-09</td>\n",
       "    </tr>\n",
       "    <tr>\n",
       "      <th>33866</th>\n",
       "      <td>1213_72</td>\n",
       "      <td>1213</td>\n",
       "      <td>2018-12-21</td>\n",
       "    </tr>\n",
       "    <tr>\n",
       "      <th>23959</th>\n",
       "      <td>1144_461</td>\n",
       "      <td>1144</td>\n",
       "      <td>2018-05-27</td>\n",
       "    </tr>\n",
       "  </tbody>\n",
       "</table>\n",
       "</div>"
      ],
      "text/plain": [
       "             id  user_id message_date\n",
       "64417   1410_82     1410   2018-12-19\n",
       "1574    1016_28     1016   2018-11-29\n",
       "64736  1412_318     1412   2018-12-09\n",
       "33866   1213_72     1213   2018-12-21\n",
       "23959  1144_461     1144   2018-05-27"
      ]
     },
     "execution_count": 18,
     "metadata": {},
     "output_type": "execute_result"
    }
   ],
   "source": [
    "# Imprima uma amostra dos dados das mensagens\n",
    "megaline_messages.sample(5) #preferi usar o 'sample' para ser mais aleatório"
   ]
  },
  {
   "cell_type": "markdown",
   "metadata": {
    "id": "GUtt1TqCuj8m"
   },
   "source": [
    "[Descreva o que você nota sobre as informações gerais e sobre a amostra de dados impressa acima. Existem problemas (tipos de dados inadequados, dados ausentes, etc.) que precisam de mais investigação e alterações? Como isso pode ser corrigido?]"
   ]
  },
  {
   "cell_type": "markdown",
   "metadata": {},
   "source": [
    "**Notas:** Os dados parecem estar adequados, sem valores ausentes (como verificado anteriormente). Parece que os usuários mandam mais que uma mensagem por dia."
   ]
  },
  {
   "cell_type": "markdown",
   "metadata": {
    "id": "feV2Njo9uj8n"
   },
   "source": [
    "### Enriqueça os dados"
   ]
  },
  {
   "cell_type": "markdown",
   "metadata": {
    "id": "KA5XDEoZuj8n"
   },
   "source": [
    "[Inclua fatores adicionais aos dados se você acredita que eles podem ser úteis.]"
   ]
  },
  {
   "cell_type": "code",
   "execution_count": 19,
   "metadata": {
    "id": "SkuCXcLJuj8n"
   },
   "outputs": [],
   "source": [
    "#Não temos os dados, mas acredito que seria interessante conter o horário do envio das mensagens, assim poderiamos analisar qual horário e período os usuários mandam mais mensagens. "
   ]
  },
  {
   "cell_type": "markdown",
   "metadata": {
    "id": "ZRFaOWzGuj8n"
   },
   "source": [
    "## Internet"
   ]
  },
  {
   "cell_type": "code",
   "execution_count": 20,
   "metadata": {
    "id": "ob3-qv4nuj8n"
   },
   "outputs": [
    {
     "name": "stdout",
     "output_type": "stream",
     "text": [
      "<class 'pandas.core.frame.DataFrame'>\n",
      "RangeIndex: 104825 entries, 0 to 104824\n",
      "Data columns (total 4 columns):\n",
      " #   Column        Non-Null Count   Dtype  \n",
      "---  ------        --------------   -----  \n",
      " 0   id            104825 non-null  object \n",
      " 1   user_id       104825 non-null  int64  \n",
      " 2   session_date  104825 non-null  object \n",
      " 3   gb_used       104825 non-null  float64\n",
      "dtypes: float64(1), int64(1), object(2)\n",
      "memory usage: 3.2+ MB\n"
     ]
    }
   ],
   "source": [
    "# Imprima informações gerais/resumo sobre o DataFrame da internet\n",
    "megaline_internet.info()"
   ]
  },
  {
   "cell_type": "code",
   "execution_count": 21,
   "metadata": {
    "id": "iIHK4fZsuj8n"
   },
   "outputs": [
    {
     "data": {
      "text/html": [
       "<div>\n",
       "<style scoped>\n",
       "    .dataframe tbody tr th:only-of-type {\n",
       "        vertical-align: middle;\n",
       "    }\n",
       "\n",
       "    .dataframe tbody tr th {\n",
       "        vertical-align: top;\n",
       "    }\n",
       "\n",
       "    .dataframe thead th {\n",
       "        text-align: right;\n",
       "    }\n",
       "</style>\n",
       "<table border=\"1\" class=\"dataframe\">\n",
       "  <thead>\n",
       "    <tr style=\"text-align: right;\">\n",
       "      <th></th>\n",
       "      <th>id</th>\n",
       "      <th>user_id</th>\n",
       "      <th>session_date</th>\n",
       "      <th>gb_used</th>\n",
       "    </tr>\n",
       "  </thead>\n",
       "  <tbody>\n",
       "    <tr>\n",
       "      <th>19083</th>\n",
       "      <td>1085_157</td>\n",
       "      <td>1085</td>\n",
       "      <td>2018-10-11</td>\n",
       "      <td>345.0</td>\n",
       "    </tr>\n",
       "    <tr>\n",
       "      <th>16289</th>\n",
       "      <td>1073_194</td>\n",
       "      <td>1073</td>\n",
       "      <td>2018-11-28</td>\n",
       "      <td>267.0</td>\n",
       "    </tr>\n",
       "    <tr>\n",
       "      <th>61449</th>\n",
       "      <td>1279_63</td>\n",
       "      <td>1279</td>\n",
       "      <td>2018-12-30</td>\n",
       "      <td>0.0</td>\n",
       "    </tr>\n",
       "    <tr>\n",
       "      <th>69632</th>\n",
       "      <td>1325_34</td>\n",
       "      <td>1325</td>\n",
       "      <td>2018-12-14</td>\n",
       "      <td>0.0</td>\n",
       "    </tr>\n",
       "    <tr>\n",
       "      <th>99953</th>\n",
       "      <td>1474_21</td>\n",
       "      <td>1474</td>\n",
       "      <td>2018-09-15</td>\n",
       "      <td>273.0</td>\n",
       "    </tr>\n",
       "  </tbody>\n",
       "</table>\n",
       "</div>"
      ],
      "text/plain": [
       "             id  user_id session_date  gb_used\n",
       "19083  1085_157     1085   2018-10-11    345.0\n",
       "16289  1073_194     1073   2018-11-28    267.0\n",
       "61449   1279_63     1279   2018-12-30      0.0\n",
       "69632   1325_34     1325   2018-12-14      0.0\n",
       "99953   1474_21     1474   2018-09-15    273.0"
      ]
     },
     "execution_count": 21,
     "metadata": {},
     "output_type": "execute_result"
    }
   ],
   "source": [
    "#  Imprima uma amostra de dados para o tráfego da internet\n",
    "megaline_internet.sample(5) #preferi usar o 'sample' para ser mais aleatório"
   ]
  },
  {
   "cell_type": "markdown",
   "metadata": {
    "id": "6wpo7ugquj8o"
   },
   "source": [
    "[Descreva o que você nota sobre as informações gerais e sobre a amostra de dados impressa acima. Existem problemas (tipos de dados inadequados, dados ausentes, etc.) que precisam de mais investigação e alterações? Como isso pode ser corrigido?]"
   ]
  },
  {
   "cell_type": "markdown",
   "metadata": {},
   "source": [
    "**Nota:** Os dados parecem estar adequados, sem valores ausentes (como verificado anteriormente). Já foi alterado a antiga coluna \"mb_used\" para \"gb_used\" e os valores também já tinham sido arredondados. Parece que a média de \"gb_used\" é bem variada, visto que um usuário usou 0 e outro 881."
   ]
  },
  {
   "cell_type": "markdown",
   "metadata": {
    "id": "bnOX4ARJuj8p"
   },
   "source": [
    "## Estude as condições dos planos"
   ]
  },
  {
   "cell_type": "markdown",
   "metadata": {
    "id": "vMu9_L8quj8p"
   },
   "source": [
    "[É fundamental entender como os planos funcionam, ou seja, como as cobranças dos usuários são feitas com base na assinatura. Sugerimos imprimir as informações sobre os planos para visualizar novamente as condições.]"
   ]
  },
  {
   "cell_type": "code",
   "execution_count": 22,
   "metadata": {
    "id": "vMXVndWEuj8p"
   },
   "outputs": [
    {
     "data": {
      "text/html": [
       "<div>\n",
       "<style scoped>\n",
       "    .dataframe tbody tr th:only-of-type {\n",
       "        vertical-align: middle;\n",
       "    }\n",
       "\n",
       "    .dataframe tbody tr th {\n",
       "        vertical-align: top;\n",
       "    }\n",
       "\n",
       "    .dataframe thead th {\n",
       "        text-align: right;\n",
       "    }\n",
       "</style>\n",
       "<table border=\"1\" class=\"dataframe\">\n",
       "  <thead>\n",
       "    <tr style=\"text-align: right;\">\n",
       "      <th></th>\n",
       "      <th>messages_included</th>\n",
       "      <th>minutes_included</th>\n",
       "      <th>usd_monthly_pay</th>\n",
       "      <th>usd_per_gb</th>\n",
       "      <th>usd_per_message</th>\n",
       "      <th>usd_per_minute</th>\n",
       "      <th>plan_name</th>\n",
       "      <th>gb_per_month_included</th>\n",
       "    </tr>\n",
       "  </thead>\n",
       "  <tbody>\n",
       "    <tr>\n",
       "      <th>0</th>\n",
       "      <td>50</td>\n",
       "      <td>500</td>\n",
       "      <td>20</td>\n",
       "      <td>10</td>\n",
       "      <td>0.03</td>\n",
       "      <td>0.03</td>\n",
       "      <td>surf</td>\n",
       "      <td>15.0</td>\n",
       "    </tr>\n",
       "    <tr>\n",
       "      <th>1</th>\n",
       "      <td>1000</td>\n",
       "      <td>3000</td>\n",
       "      <td>70</td>\n",
       "      <td>7</td>\n",
       "      <td>0.01</td>\n",
       "      <td>0.01</td>\n",
       "      <td>ultimate</td>\n",
       "      <td>30.0</td>\n",
       "    </tr>\n",
       "  </tbody>\n",
       "</table>\n",
       "</div>"
      ],
      "text/plain": [
       "   messages_included  minutes_included  usd_monthly_pay  usd_per_gb  \\\n",
       "0                 50               500               20          10   \n",
       "1               1000              3000               70           7   \n",
       "\n",
       "   usd_per_message  usd_per_minute plan_name  gb_per_month_included  \n",
       "0             0.03            0.03      surf                   15.0  \n",
       "1             0.01            0.01  ultimate                   30.0  "
      ]
     },
     "execution_count": 22,
     "metadata": {},
     "output_type": "execute_result"
    }
   ],
   "source": [
    "# Imprima as condições dos planos e certifique-se de que elas fazem sentido para você\n",
    "megaline_plans.head()"
   ]
  },
  {
   "cell_type": "markdown",
   "metadata": {
    "id": "1v1EshDmuj8q"
   },
   "source": [
    "## Agregue os dados por usuário\n",
    "\n",
    "[Agora, como os dados estão limpos, os agregue por usuário e por período para ter apenas um registro dessas informações. Isso vai facilitar muito as próximas análises.]"
   ]
  },
  {
   "cell_type": "code",
   "execution_count": 23,
   "metadata": {
    "id": "4hmb2pSPuj8q"
   },
   "outputs": [
    {
     "name": "stdout",
     "output_type": "stream",
     "text": [
      "      user_id  month  calls_count\n",
      "1616     1358      6           57\n",
      "900      1192     10           69\n",
      "604      1130     12           71\n",
      "1323     1291      9           83\n",
      "1620     1358     10           64\n"
     ]
    }
   ],
   "source": [
    "# Calcule o número de chamadas feitas por cada usuário por mês. Salve o resultado.\n",
    "megaline_calls['month'] = megaline_calls['call_date'].dt.month\n",
    "calls_per_month = megaline_calls.groupby(['user_id', 'month'])['id'].count().reset_index(name = 'calls_count')\n",
    "print (calls_per_month.sample(5))"
   ]
  },
  {
   "cell_type": "code",
   "execution_count": 24,
   "metadata": {
    "id": "yHgBWCJJuj8q"
   },
   "outputs": [
    {
     "name": "stdout",
     "output_type": "stream",
     "text": [
      "      user_id  month  min_waste\n",
      "1793     1393     10       71.0\n",
      "2101     1465      8      682.0\n",
      "1090     1237     11      743.0\n",
      "746      1160      5      626.0\n",
      "2222     1493      8      373.0\n",
      "1827     1400      8      529.0\n",
      "1381     1305     11      536.0\n",
      "176      1044     10      172.0\n",
      "142      1039     11      491.0\n",
      "1804     1396     11      279.0\n"
     ]
    }
   ],
   "source": [
    "# Calcule a quantidade de minutos gastos por cada usuário por mês. Salve o resultado.\n",
    "min_waste = megaline_calls.groupby(['user_id', 'month'])['duration'].sum().reset_index(name = 'min_waste')\n",
    "print (min_waste.sample(10))"
   ]
  },
  {
   "cell_type": "code",
   "execution_count": 25,
   "metadata": {
    "id": "MaM_cPxauj8q"
   },
   "outputs": [
    {
     "name": "stdout",
     "output_type": "stream",
     "text": [
      "      user_id  month  sent_messages\n",
      "0        1000     12             11\n",
      "1        1001      8             30\n",
      "2        1001      9             44\n",
      "3        1001     10             53\n",
      "4        1001     11             36\n",
      "...       ...    ...            ...\n",
      "1801     1496      9             21\n",
      "1802     1496     10             18\n",
      "1803     1496     11             13\n",
      "1804     1496     12             11\n",
      "1805     1497     12             50\n",
      "\n",
      "[1806 rows x 3 columns]\n"
     ]
    }
   ],
   "source": [
    "# Calcule o número de mensagens enviadas por cada usuário por mês. Salve o resultado.\n",
    "megaline_messages['message_date'] = pd.to_datetime(megaline_messages['message_date'])\n",
    "megaline_messages['month'] = megaline_messages['message_date'].dt.month\n",
    "sent = megaline_messages.groupby(['user_id','month'])['message_date'].count().reset_index(name= 'sent_messages')\n",
    "print (sent)"
   ]
  },
  {
   "cell_type": "code",
   "execution_count": 26,
   "metadata": {
    "id": "WsCEZJ_xuj8q"
   },
   "outputs": [
    {
     "name": "stdout",
     "output_type": "stream",
     "text": [
      "      user_id  month  net_trafic\n",
      "0        1000     12      1903.0\n",
      "1        1001      8      6929.0\n",
      "2        1001      9     13333.0\n",
      "3        1001     10     22356.0\n",
      "4        1001     11     18524.0\n",
      "...       ...    ...         ...\n",
      "2272     1498     12     23160.0\n",
      "2273     1499      9     13004.0\n",
      "2274     1499     10     19515.0\n",
      "2275     1499     11     16834.0\n",
      "2276     1499     12     22091.0\n",
      "\n",
      "[2277 rows x 3 columns]\n"
     ]
    }
   ],
   "source": [
    "# Calcule o volume de tráfego de internet usado por cada usuário por mês. Salve o resultado.\n",
    "megaline_internet['session_date'] = pd.to_datetime(megaline_internet['session_date'])\n",
    "megaline_internet['month'] = megaline_internet['session_date'].dt.month\n",
    "net_trafic = megaline_internet.groupby (['user_id', 'month'])['gb_used'].sum().reset_index (name = \"net_trafic\")\n",
    "print (net_trafic)"
   ]
  },
  {
   "cell_type": "markdown",
   "metadata": {
    "id": "6nBsD4hduj8q"
   },
   "source": [
    "[Coloque os dados agregados em um DataFrame para que cada registro nele represente o que cada usuário consumiu em um determinado mês.]\n",
    "#Nota aluno: não entendi o que é para fazer"
   ]
  },
  {
   "cell_type": "code",
   "execution_count": 27,
   "metadata": {
    "id": "BYDTkxOauj8r"
   },
   "outputs": [
    {
     "name": "stdout",
     "output_type": "stream",
     "text": [
      "   user_id  month  calls_count  min_waste  sent_messages  net_trafic\n",
      "0     1000     12         16.0      124.0           11.0      1903.0\n",
      "1     1001      8         27.0      182.0           30.0      6929.0\n",
      "2     1001      9         49.0      315.0           44.0     13333.0\n",
      "3     1001     10         65.0      393.0           53.0     22356.0\n",
      "4     1001     11         64.0      426.0           36.0     18524.0\n"
     ]
    }
   ],
   "source": [
    "# Junte os dados de chamadas, minutos, mensagens e internet com base em user_id e month\n",
    "merged = calls_per_month.merge (min_waste, on = ['user_id', 'month'], how = 'outer')\n",
    "merged = merged.merge (sent, on=['user_id', 'month'], how = 'outer')\n",
    "merged = merged.merge (net_trafic, on=['user_id', 'month'], how = 'outer')\n",
    "print (merged.head())"
   ]
  },
  {
   "cell_type": "code",
   "execution_count": 28,
   "metadata": {
    "id": "SW-sgLaHuj8r"
   },
   "outputs": [
    {
     "name": "stdout",
     "output_type": "stream",
     "text": [
      "   user_id  month  calls_count  min_waste  sent_messages  net_trafic      plan\n",
      "0     1000     12         16.0      124.0           11.0      1903.0  ultimate\n",
      "1     1001      8         27.0      182.0           30.0      6929.0      surf\n",
      "2     1001      9         49.0      315.0           44.0     13333.0      surf\n",
      "3     1001     10         65.0      393.0           53.0     22356.0      surf\n",
      "4     1001     11         64.0      426.0           36.0     18524.0      surf\n"
     ]
    }
   ],
   "source": [
    "# Adicione as informações sobre o plano\n",
    "merged = merged.merge(\n",
    "    megaline_users[['user_id', 'plan']],\n",
    "    on = 'user_id',\n",
    "    how = 'left'\n",
    ")\n",
    "\n",
    "print (merged.head())"
   ]
  },
  {
   "cell_type": "markdown",
   "metadata": {
    "id": "mU8dKHTQuj8r"
   },
   "source": [
    "[Calcule a receita mensal para cada usuário: subtraia o limite gratuito do pacote do número total de chamadas, mensagens de texto e dados; multiplique o resultado pelo valor do plano; adicione o preço mensal dependendo do plano. Importante: isso talvez não seja tão simples e necessite de várias linhas, considerando as condições do plano. Portanto, não se preocupe se você passar algum tempo nesta etapa.]"
   ]
  },
  {
   "cell_type": "code",
   "execution_count": 29,
   "metadata": {
    "id": "JiPHXbQAuj8r"
   },
   "outputs": [
    {
     "name": "stdout",
     "output_type": "stream",
     "text": [
      "    user_id  month  calls_count  min_waste  sent_messages  net_trafic  \\\n",
      "0      1000     12         16.0      124.0           11.0      1903.0   \n",
      "1      1001      8         27.0      182.0           30.0      6929.0   \n",
      "2      1001      9         49.0      315.0           44.0     13333.0   \n",
      "3      1001     10         65.0      393.0           53.0     22356.0   \n",
      "4      1001     11         64.0      426.0           36.0     18524.0   \n",
      "5      1001     12         56.0      412.0           44.0     19398.0   \n",
      "6      1002     10         11.0       59.0           15.0      6559.0   \n",
      "7      1002     11         55.0      386.0           32.0     19364.0   \n",
      "8      1002     12         47.0      384.0           41.0     14416.0   \n",
      "9      1003     12        149.0     1104.0           50.0     27069.0   \n",
      "10     1004      5         21.0      193.0            7.0      6554.0   \n",
      "11     1004      6         44.0      275.0           18.0     20702.0   \n",
      "12     1004      7         49.0      381.0           26.0     24547.0   \n",
      "13     1004      8         49.0      354.0           25.0     28015.0   \n",
      "14     1004      9         42.0      301.0           21.0     18874.0   \n",
      "15     1004     10         61.0      365.0           24.0     14564.0   \n",
      "16     1004     11         54.0      476.0           25.0     21882.0   \n",
      "17     1004     12         50.0      427.0           31.0     21410.0   \n",
      "18     1005     12         59.0      496.0           11.0     17164.0   \n",
      "19     1006     11          2.0       10.0           15.0      2072.0   \n",
      "\n",
      "                                      city      plan  monthly_revenue  \n",
      "0    Atlanta-Sandy Springs-Roswell, GA MSA  ultimate            84.00  \n",
      "1          Seattle-Tacoma-Bellevue, WA MSA      surf            90.00  \n",
      "2          Seattle-Tacoma-Bellevue, WA MSA      surf           160.00  \n",
      "3          Seattle-Tacoma-Bellevue, WA MSA      surf           240.09  \n",
      "4          Seattle-Tacoma-Bellevue, WA MSA      surf           210.00  \n",
      "5          Seattle-Tacoma-Bellevue, WA MSA      surf           210.00  \n",
      "6     Las Vegas-Henderson-Paradise, NV MSA      surf            90.00  \n",
      "7     Las Vegas-Henderson-Paradise, NV MSA      surf           210.00  \n",
      "8     Las Vegas-Henderson-Paradise, NV MSA      surf           170.00  \n",
      "9                            Tulsa, OK MSA      surf           308.12  \n",
      "10         Seattle-Tacoma-Bellevue, WA MSA      surf            90.00  \n",
      "11         Seattle-Tacoma-Bellevue, WA MSA      surf           230.00  \n",
      "12         Seattle-Tacoma-Bellevue, WA MSA      surf           260.00  \n",
      "13         Seattle-Tacoma-Bellevue, WA MSA      surf           300.00  \n",
      "14         Seattle-Tacoma-Bellevue, WA MSA      surf           210.00  \n",
      "15         Seattle-Tacoma-Bellevue, WA MSA      surf           170.00  \n",
      "16         Seattle-Tacoma-Bellevue, WA MSA      surf           240.00  \n",
      "17         Seattle-Tacoma-Bellevue, WA MSA      surf           230.00  \n",
      "18     Dallas-Fort Worth-Arlington, TX MSA      surf           190.00  \n",
      "19  San Francisco-Oakland-Berkeley, CA MSA  ultimate            84.00  \n"
     ]
    }
   ],
   "source": [
    "# Calcule a receita mensal para cada usuário\n",
    "\n",
    "df_users_monthly = (\n",
    "    calls_per_month\n",
    "    .merge(min_waste, on=['user_id', 'month'], how='outer')  # Junta os minutos\n",
    "    .merge(sent, on=['user_id', 'month'], how='outer')  # Junta as mensagens\n",
    "    .merge(net_trafic, on=['user_id', 'month'], how='outer')  # Junta o uso de internet\n",
    "    .merge(megaline_users[['user_id','city']], on='user_id', how='left')  # Adiciona a cidade de cada usuário\n",
    "    .fillna(0)  # Preenche valores ausentes com 0 (caso o usuário não tenha usado algum serviço no mês)\n",
    ")\n",
    "\n",
    "\n",
    "df_users_monthly_plans = df_users_monthly.merge(megaline_users[['user_id', 'plan']], on='user_id', how='left')\n",
    "\n",
    "def calculate_revenue(row):\n",
    "    plan_name = row['plan']\n",
    "    calls_used = row['min_waste']\n",
    "    messages_sent = row['sent_messages']\n",
    "    internet_used_mb = row['net_trafic']\n",
    "\n",
    "    plan_details = megaline_plans[megaline_plans['plan_name'] == plan_name].iloc[0]\n",
    "\n",
    "\n",
    "    minutes_included = plan_details['minutes_included']            # Minutos incluídos no plano\n",
    "    messages_included = plan_details['messages_included']       # Mensagens incluídas no plano\n",
    "    mb_included = plan_details['gb_per_month_included']                # Internet incluída em MB\n",
    "    usd_monthly_pay = plan_details['usd_monthly_pay']              # Valor fixo mensal do plano\n",
    "\n",
    "    usd_per_minute = plan_details['usd_per_minute']                # Custo por minuto adicional\n",
    "    usd_per_message = plan_details['usd_per_message']              # Custo por mensagem adicional\n",
    "    usd_per_gb = plan_details['usd_per_gb']                        # Custo por GB adicional\n",
    "\n",
    "    extra_minutes_cost = max(0, (calls_used - minutes_included)) * usd_per_minute\n",
    "\n",
    "    extra_messages_cost = max(0, (messages_sent - messages_included)) * usd_per_message\n",
    "\n",
    "    extra_internet_cost = max(0, (np.ceil((internet_used_mb - mb_included) / 1024)) * usd_per_gb)\n",
    "\n",
    "    total_revenue = usd_monthly_pay + extra_minutes_cost + extra_messages_cost + extra_internet_cost\n",
    "\n",
    "    return total_revenue\n",
    "\n",
    "# Aplica a função a cada linha do DataFrame para calcular a receita mensal de cada usuário\n",
    "df_users_monthly_plans['monthly_revenue'] = df_users_monthly_plans.apply(calculate_revenue, axis=1)\n",
    "\n",
    "# Exibe as 20 primeiras linhas do DataFrame resultante\n",
    "print(df_users_monthly_plans.head(20))"
   ]
  },
  {
   "cell_type": "markdown",
   "metadata": {
    "id": "0HFWXKTQuj8r"
   },
   "source": [
    "## Estude o comportamento do usuário"
   ]
  },
  {
   "cell_type": "markdown",
   "metadata": {
    "id": "i6gGFggkuj8s"
   },
   "source": [
    "[Calcule algumas estatísticas descritivas úteis para os dados agregados, o que costuma revelar uma imagem geral capturada pelos dados. Desenhe gráficos úteis para ajudar na compreensão. Já que a tarefa principal é comparar os planos e decidir qual é mais rentável, as estatísticas e os gráficos devem ser calculados por plano.]\n",
    "\n",
    "[Existem dicas relevantes nos comentários para as chamadas. Essas dicas não foram fornecidas para as mensagens e internet, mas o princípio do estudo estatístico é o mesmo em todos os casos.]"
   ]
  },
  {
   "cell_type": "markdown",
   "metadata": {
    "id": "umaMfSLxuj8s"
   },
   "source": [
    "### Chamadas"
   ]
  },
  {
   "cell_type": "code",
   "execution_count": null,
   "metadata": {},
   "outputs": [
    {
     "data": {
      "image/png": "[encoded data removed]",
      "text/plain": [
       "<Figure size 1200x600 with 1 Axes>"
      ]
     },
     "metadata": {},
     "output_type": "display_data"
    }
   ],
   "source": [
    "import calendar  # Para obter os nomes dos meses\n",
    "\n",
    "# Agrupa por plano e mês, calculando a média de minutos desperdiçados\n",
    "avg_minutes = merged.groupby(['plan', 'month'])['min_waste'].mean().reset_index()\n",
    "\n",
    "# Mapeia os números dos meses (1-12) para nomes ('Jan', 'Feb', ...)\n",
    "avg_minutes['month_name'] = avg_minutes['month'].apply(lambda x: calendar.month_abbr[int(x)])\n",
    "\n",
    "# Reordena os dados pelo número do mês (para manter a ordem correta)\n",
    "avg_minutes = avg_minutes.sort_values(by='month')\n",
    "\n",
    "# Faz o pivot usando os nomes dos meses como índice\n",
    "avg_minutes_pivot = avg_minutes.pivot(index='month_name', columns='plan', values='min_waste')\n",
    "\n",
    "# Gera o gráfico de barras\n",
    "avg_minutes_pivot.plot(\n",
    "    title='Duração média das chamadas por plano para cada mês',\n",
    "    xlabel='Mês',\n",
    "    ylabel='Minutos médios',\n",
    "    kind='bar',\n",
    "    rot=0,\n",
    "    figsize=(12, 6),\n",
    "    color=['pink', 'purple']\n",
    ")\n",
    "\n",
    "plt.show()\n"
   ]
  },
  {
   "cell_type": "code",
   "execution_count": 31,
   "metadata": {
    "id": "9sCQ1lP8uj8u"
   },
   "outputs": [
    {
     "data": {
      "image/png": "[encoded data removed]",
      "text/plain": [
       "<Figure size 1200x600 with 1 Axes>"
      ]
     },
     "metadata": {},
     "output_type": "display_data"
    }
   ],
   "source": [
    "# Compare o número de minutos que os usuários de cada plano necessitam a cada mês. Construa um histograma.\n",
    "month = 5\n",
    "surf = merged[(merged['plan'] == 'surf') & (merged['month'] == month)]['min_waste']\n",
    "ultimate = merged[(merged['plan'] == 'ultimate') & (merged['month'] == month)]['min_waste']\n",
    "\n",
    "plt.figure(figsize=(12,6))\n",
    "\n",
    "plt.hist(surf, bins=30, alpha=0.6, label='Surf', color='blue')\n",
    "plt.hist(ultimate, bins=30, alpha=0.6, label='Ultimate', color='orange')\n",
    "\n",
    "plt.title('Distribuição dos minutos usados por plano')\n",
    "plt.xlabel ('Minutos')\n",
    "plt.ylabel ('Frequência')\n",
    "plt.legend()\n",
    "plt.show()\n"
   ]
  },
  {
   "cell_type": "markdown",
   "metadata": {
    "id": "_x1pRDFtuj8u"
   },
   "source": [
    "[Calcule a média e a variância da duração das chamadas para refletir se os usuários de cada plano possuem comportamentos diferentes sobre as chamadas.]"
   ]
  },
  {
   "cell_type": "code",
   "execution_count": 32,
   "metadata": {
    "id": "cIdodPExuj8u"
   },
   "outputs": [
    {
     "name": "stdout",
     "output_type": "stream",
     "text": [
      "    month        mean           var\n",
      "0       1  196.666667  13135.866667\n",
      "1       2  366.333333  56978.380952\n",
      "2       3  321.171429  43378.499160\n",
      "3       4  347.197183  45620.531992\n",
      "4       5  409.125000  52828.673544\n",
      "5       6  420.361702  42344.746809\n",
      "6       7  444.944134  63782.244052\n",
      "7       8  418.956522  52363.369280\n",
      "8       9  425.942238  48325.605347\n",
      "9      10  443.988131  50314.047478\n",
      "10     11  437.570720  52021.061529\n",
      "11     12  478.269565  60020.023037\n"
     ]
    }
   ],
   "source": [
    "# Calcule a média e a variância da duração mensal das chamadas\n",
    "calls = merged.groupby('month')['min_waste'].agg(['mean', 'var']).reset_index()\n",
    "print (calls)"
   ]
  },
  {
   "cell_type": "code",
   "execution_count": null,
   "metadata": {},
   "outputs": [
    {
     "data": {
      "image/png": "[encoded data removed]",
      "text/plain": [
       "<Figure size 1200x600 with 1 Axes>"
      ]
     },
     "metadata": {},
     "output_type": "display_data"
    }
   ],
   "source": [
    "\n",
    "# Faça um diagrama de caixa para visualizar a distribuição da duração mensal das chamadas\n",
    "\n",
    "merged.boxplot(column='min_waste', by= 'month', figsize = (12,6))\n",
    "\n",
    "plt.title('Distribuição da duração mensal das chamadas') ##Ajustado para plt.title\n",
    "plt.suptitle('')\n",
    "plt.xlabel('Mês')\n",
    "plt.ylabel('Minutos por usuário')\n",
    "plt.show()\n"
   ]
  },
  {
   "cell_type": "markdown",
   "metadata": {
    "id": "Uyt3rWn7uj8u"
   },
   "source": [
    "O plano \"surf\" é muito mais usado do que o plano \"ultimate\". Sendo que os usuários do plano 'surf' usam muito mais minutos, além disso há uma variação mensal de minutos usados. "
   ]
  },
  {
   "cell_type": "markdown",
   "metadata": {
    "id": "2hWSPtrnuj8v"
   },
   "source": [
    "### Mensagens"
   ]
  },
  {
   "cell_type": "code",
   "execution_count": 35,
   "metadata": {
    "id": "9kPlAhOJuj8v"
   },
   "outputs": [
    {
     "name": "stdout",
     "output_type": "stream",
     "text": [
      "        plan  month  sent_messages\n",
      "15  ultimate      4      28.937500\n",
      "7       surf      8      37.596774\n",
      "21  ultimate     10      46.977528\n",
      "13  ultimate      2      25.166667\n",
      "12  ultimate      1      20.666667\n",
      "20  ultimate      9      45.901408\n",
      "19  ultimate      8      47.929825\n",
      "14  ultimate      3      34.714286\n",
      "6       surf      7      35.945055\n",
      "18  ultimate      7      41.212766\n"
     ]
    }
   ],
   "source": [
    "# Compare o número de mensagens que os usuários de cada plano costumam enviar a cada mês\n",
    "msg = merged.groupby(['plan', 'month'])['sent_messages'].mean().reset_index()\n",
    "print (msg.sample(10))"
   ]
  },
  {
   "cell_type": "code",
   "execution_count": 36,
   "metadata": {
    "id": "fIVdRuT6uj8v"
   },
   "outputs": [
    {
     "name": "stdout",
     "output_type": "stream",
     "text": [
      "        plan  month    net_trafic\n",
      "17  ultimate      6  15355.106383\n",
      "20  ultimate      9  16989.395349\n",
      "7       surf      8  17132.125786\n",
      "14  ultimate      3  18340.250000\n",
      "15  ultimate      4  16140.476190\n",
      "21  ultimate     10  17801.123810\n",
      "6       surf      7  16943.208333\n",
      "23  ultimate     12  18344.735099\n",
      "3       surf      4  12243.061224\n",
      "11      surf     12  18211.053628\n"
     ]
    }
   ],
   "source": [
    "# Compare a quantidade de tráfego de internet consumido pelos usuários por plano\n",
    "internet = merged.groupby(['plan', 'month'])['net_trafic'].mean().reset_index()\n",
    "print (internet.sample(10))"
   ]
  },
  {
   "cell_type": "markdown",
   "metadata": {
    "id": "di6wucOLuj8v"
   },
   "source": [
    "**Conclusão:**\n",
    "Os usuários do plano \"ultimate\" tendem a gastar mais dados do que os usuários do plano \"surf\", como por exemplo: no mes 4, os usuários do plano \"ultimate\" usaram 16140.476190 e do plano 'surf' 12243.061224, com uma diferença de 3.897.414.966 dados. Além disso, o uso de dados cresce em alguns meses, pode estar ligados a promoções, epocas do ano..."
   ]
  },
  {
   "cell_type": "markdown",
   "metadata": {
    "id": "v6QELMtcuj8v"
   },
   "source": [
    "[Formule conclusões sobre como os usuários costumam consumir o tráfego da internet. O comportamento é diferente dependendo do plano?]"
   ]
  },
  {
   "cell_type": "markdown",
   "metadata": {
    "id": "g23qXaYNuj8x"
   },
   "source": [
    "## Receita"
   ]
  },
  {
   "cell_type": "markdown",
   "metadata": {
    "id": "qI9oKXFZuj8y"
   },
   "source": [
    "[Da mesma forma que você estudou o comportamento dos usuários, descreva estatisticamente as receitas dos planos.]"
   ]
  },
  {
   "cell_type": "code",
   "execution_count": null,
   "metadata": {
    "id": "CGuBwYRyuj8y"
   },
   "outputs": [
    {
     "data": {
      "image/png": "[encoded data removed]",
      "text/plain": [
       "<Figure size 1000x600 with 1 Axes>"
      ]
     },
     "metadata": {},
     "output_type": "display_data"
    }
   ],
   "source": [
    "df_users_monthly_plans.boxplot(column='monthly_revenue', by='plan', figsize = (10,6))\n",
    "\n",
    "plt.suptitle('')\n",
    "plt.title('Distribuição da receita total por usuário e plano')\n",
    "plt.xlabel('Plano')\n",
    "plt.ylabel('Receita total')\n",
    "plt.show()"
   ]
  },
  {
   "cell_type": "markdown",
   "metadata": {
    "id": "qJSyfvUguj8y"
   },
   "source": [
    "Os usuários do plano \"surf\" tem uma mediana de receita mais alta que do plano 'ultimate', ous seja, em média os usuários do 'surf' constumam gerar mais receita indivudual. Muitos usuários do plano 'surf' ultrapassam os limites do plano (pontinhos) já do plano 'ultimate' não são tantos.\n"
   ]
  },
  {
   "cell_type": "markdown",
   "metadata": {
    "id": "6X34EwHpuj8z"
   },
   "source": [
    "[Formule conclusões sobre como a receita difere entre os planos.]"
   ]
  },
  {
   "cell_type": "markdown",
   "metadata": {
    "id": "xJ6Mu-KAuj8z"
   },
   "source": [
    "## Teste hipóteses estatísticas"
   ]
  },
  {
   "cell_type": "markdown",
   "metadata": {
    "id": "lop_0j4Duj8z"
   },
   "source": [
    "[Teste a hipótese de que a receita média dos usuários dos planos Ultimate e Surf são diferentes.]"
   ]
  },
  {
   "cell_type": "markdown",
   "metadata": {
    "id": "-X2l1R8Luj80"
   },
   "source": [
    "[Formule as hipóteses nula e alternativa, escolha o teste estatístico, escolha o valor alfa.]"
   ]
  },
  {
   "cell_type": "code",
   "execution_count": 47,
   "metadata": {
    "id": "LyGrPhpUuj80"
   },
   "outputs": [
    {
     "name": "stdout",
     "output_type": "stream",
     "text": [
      "valor-p: 0.4251791379266495\n",
      "Aceitamos a hipóstese nula\n"
     ]
    }
   ],
   "source": [
    "# Teste as hipóteses\n",
    "#Hipótese nula: A receita média dos usuários do plano surf e ultimate são igual\n",
    "#Hipótese alternativa: A receita média dos usuários do plano surf e ultimate são diferentes\n",
    "alpha = 0.05\n",
    "surf_revenue = df_users_monthly_plans[df_users_monthly_plans['plan'] == 'surf']['monthly_revenue']\n",
    "ultimate_revenue = df_users_monthly_plans[df_users_monthly_plans['plan'] == 'ultimate']['monthly_revenue']\n",
    "\n",
    "results = st.ttest_ind(surf_revenue,ultimate_revenue, equal_var = False )\n",
    "print ('valor-p:', results.pvalue)\n",
    "\n",
    "if results.pvalue < alpha:\n",
    "    print ('Rejeitamos a hipótese nula')\n",
    "else: \n",
    "    print ('Aceitamos a hipóstese nula')"
   ]
  },
  {
   "cell_type": "markdown",
   "metadata": {
    "id": "Cz6rwE56uj80"
   },
   "source": [
    "[Teste a hipótese de que a receita média dos usuários da área de NY-NJ difere dos usuários das demais regiões.]"
   ]
  },
  {
   "cell_type": "code",
   "execution_count": 40,
   "metadata": {},
   "outputs": [
    {
     "name": "stdout",
     "output_type": "stream",
     "text": [
      "Ttest_indResult(statistic=0.030577765842188506, pvalue=0.9756171772470743)\n"
     ]
    }
   ],
   "source": [
    "df = df_users_monthly_plans.merge(megaline_users[['user_id', 'city']], on='user_id', how='left')\n",
    "ny_nj = df_users_monthly_plans[df_users_monthly_plans['city'] == 'New York-Newark-Jersey City, NY-NJ-PA MSA']['monthly_revenue']\n",
    "other_city = df_users_monthly_plans[df_users_monthly_plans['city'] != 'New York-Newark-Jersey City, NY-NJ-PA MSA']['monthly_revenue']\n",
    "\n",
    "results = st.ttest_ind(ny_nj,other_city, equal_var = False )\n",
    "print (results)"
   ]
  },
  {
   "cell_type": "code",
   "execution_count": 41,
   "metadata": {
    "id": "98t8iiJyuj80"
   },
   "outputs": [
    {
     "name": "stdout",
     "output_type": "stream",
     "text": [
      "Aceitamos a hipóstese nula\n"
     ]
    }
   ],
   "source": [
    "#Hipotese nula: o valor da receita média dos usuários da área de NY-NJ é igual a outras regiões\n",
    "#Hipótese alternativa: o valor da receita média dos usuários da área de NY-NJ difere de outras regiões\n",
    "alpha = 0.05\n",
    "if results.pvalue < alpha:\n",
    "    print ('Rejeitamos a hipótese nula')\n",
    "else:\n",
    "    print ('Aceitamos a hipóstese nula')\n"
   ]
  },
  {
   "cell_type": "markdown",
   "metadata": {
    "id": "M8WycwWFuj81"
   },
   "source": [
    "## Conclusão geral"
   ]
  },
  {
   "cell_type": "markdown",
   "metadata": {},
   "source": [
    "Como sempre, os projetos vão evoluindo, usamos mais coisas a cada projeto o que aumenta a dificuldade (como nos exercícios que não soube fazer ou arrumar). Com novos dados, fiz o seu pré-processamento, verificando valores ausentes e duplicados, fiz também as conversões necessárias, como megabyte para gigabyte e segundos para minutos. Além disso, arrendondei os valores que haviam sido solictados e unifiquei colunas. Fiz alguns agrupamentos para entender o comportamento dos usuários, criei novas variáveis, e analisei as principais diferenças entre os usuários do plano 'surf' e 'ultimate'. Testei as hipóteses nulas e alternativas que ajudam a dar os próximos passos para empresa, como por exemplo: talvez revisar o modelo de preços do Surf para equilibrar lucro e satisfação do cliente e realizar análises adicionais segmentadas por região ou perfil de cliente para campanhas personalizadas."
   ]
  }
 ],
 "metadata": {
  "ExecuteTimeLog": [
   {
    "duration": 828,
    "start_time": "2021-11-16T09:21:11.304Z"
   },
   {
    "duration": 893,
    "start_time": "2021-11-16T09:21:17.728Z"
   },
   {
    "duration": 1150,
    "start_time": "2021-11-16T09:21:29.568Z"
   },
   {
    "duration": 3,
    "start_time": "2021-11-16T09:24:14.495Z"
   },
   {
    "duration": 120,
    "start_time": "2021-11-16T09:24:46.630Z"
   },
   {
    "duration": 3,
    "start_time": "2021-11-16T09:28:27.882Z"
   },
   {
    "duration": 4,
    "start_time": "2021-11-16T09:29:54.281Z"
   },
   {
    "duration": 3,
    "start_time": "2021-11-16T09:30:45.936Z"
   },
   {
    "duration": 4,
    "start_time": "2021-11-16T09:31:06.300Z"
   },
   {
    "duration": 113,
    "start_time": "2021-11-16T09:31:37.208Z"
   },
   {
    "duration": 143,
    "start_time": "2021-11-16T09:31:48.656Z"
   },
   {
    "duration": 98,
    "start_time": "2021-11-16T09:31:55.678Z"
   },
   {
    "duration": 3,
    "start_time": "2021-11-16T09:32:08.535Z"
   },
   {
    "duration": 111,
    "start_time": "2021-11-16T09:32:10.120Z"
   },
   {
    "duration": 3,
    "start_time": "2021-11-16T09:32:15.732Z"
   },
   {
    "duration": 4,
    "start_time": "2021-11-16T09:32:29.423Z"
   },
   {
    "duration": 3,
    "start_time": "2021-11-16T10:03:03.074Z"
   },
   {
    "duration": 3,
    "start_time": "2021-11-16T10:10:01.288Z"
   },
   {
    "duration": 3,
    "start_time": "2021-11-16T10:10:46.923Z"
   },
   {
    "duration": 121,
    "start_time": "2021-11-16T10:37:46.494Z"
   },
   {
    "duration": 125,
    "start_time": "2021-11-16T10:38:20.632Z"
   },
   {
    "duration": 112,
    "start_time": "2021-11-16T10:46:53.001Z"
   },
   {
    "duration": 110,
    "start_time": "2021-11-16T10:48:25.775Z"
   },
   {
    "duration": 3,
    "start_time": "2021-11-16T10:50:18.720Z"
   },
   {
    "duration": 4,
    "start_time": "2021-11-16T10:50:37.649Z"
   },
   {
    "duration": 2,
    "start_time": "2021-11-16T10:50:51.884Z"
   },
   {
    "duration": 3,
    "start_time": "2021-11-16T10:51:56.237Z"
   },
   {
    "duration": 101,
    "start_time": "2021-11-16T10:53:13.791Z"
   },
   {
    "duration": 3,
    "start_time": "2021-11-16T10:55:59.186Z"
   },
   {
    "duration": 3,
    "start_time": "2021-11-16T10:56:10.751Z"
   },
   {
    "duration": 3,
    "start_time": "2021-11-16T10:56:49.038Z"
   },
   {
    "duration": 3,
    "start_time": "2021-11-16T10:56:49.174Z"
   },
   {
    "duration": 4,
    "start_time": "2021-11-16T10:56:49.414Z"
   },
   {
    "duration": 3,
    "start_time": "2021-11-16T10:56:49.680Z"
   },
   {
    "duration": 3,
    "start_time": "2021-11-16T10:56:50.370Z"
   },
   {
    "duration": 114,
    "start_time": "2021-11-16T10:59:34.518Z"
   },
   {
    "duration": 3,
    "start_time": "2021-11-16T11:01:41.201Z"
   },
   {
    "duration": 116,
    "start_time": "2021-11-16T11:01:48.754Z"
   },
   {
    "duration": 3,
    "start_time": "2021-11-16T11:02:16.685Z"
   },
   {
    "duration": 3,
    "start_time": "2021-11-16T11:02:19.479Z"
   },
   {
    "duration": 3,
    "start_time": "2021-11-16T11:02:47.067Z"
   },
   {
    "duration": 3,
    "start_time": "2021-11-16T11:02:49.353Z"
   },
   {
    "duration": 3,
    "start_time": "2021-11-16T11:03:07.835Z"
   },
   {
    "duration": 3,
    "start_time": "2021-11-16T11:03:07.953Z"
   },
   {
    "duration": 112,
    "start_time": "2021-11-16T11:07:52.072Z"
   },
   {
    "duration": 187,
    "start_time": "2021-11-16T11:09:23.468Z"
   },
   {
    "duration": 4,
    "start_time": "2021-11-16T11:10:01.455Z"
   },
   {
    "duration": 3,
    "start_time": "2021-11-16T11:10:05.069Z"
   },
   {
    "duration": 4,
    "start_time": "2021-11-16T11:10:13.376Z"
   },
   {
    "duration": 3,
    "start_time": "2021-11-16T11:10:14.434Z"
   },
   {
    "duration": 3,
    "start_time": "2021-11-16T11:10:22.853Z"
   },
   {
    "duration": 4,
    "start_time": "2021-11-16T11:27:29.279Z"
   },
   {
    "duration": 4,
    "start_time": "2021-11-16T11:29:08.919Z"
   },
   {
    "duration": 118,
    "start_time": "2021-11-16T11:29:46.703Z"
   },
   {
    "duration": 437,
    "start_time": "2021-11-16T11:36:02.181Z"
   },
   {
    "duration": 157,
    "start_time": "2021-11-16T11:36:14.388Z"
   },
   {
    "duration": 207,
    "start_time": "2021-11-16T11:47:15.898Z"
   },
   {
    "duration": 3,
    "start_time": "2021-11-16T11:53:52.092Z"
   },
   {
    "duration": 3,
    "start_time": "2021-11-16T11:53:52.236Z"
   },
   {
    "duration": 3,
    "start_time": "2021-11-16T11:59:12.005Z"
   },
   {
    "duration": 112,
    "start_time": "2021-11-16T12:00:33.446Z"
   },
   {
    "duration": 3,
    "start_time": "2021-11-16T12:02:14.453Z"
   },
   {
    "duration": 3,
    "start_time": "2021-11-16T12:02:39.512Z"
   },
   {
    "duration": 106,
    "start_time": "2021-11-16T12:03:03.460Z"
   },
   {
    "duration": 3,
    "start_time": "2021-11-17T20:37:21.139Z"
   },
   {
    "duration": 3,
    "start_time": "2021-11-17T20:37:22.229Z"
   },
   {
    "duration": 3,
    "start_time": "2021-11-17T20:38:38.806Z"
   },
   {
    "duration": 3,
    "start_time": "2021-11-17T20:38:41.958Z"
   },
   {
    "duration": 3,
    "start_time": "2021-11-17T20:43:46.551Z"
   },
   {
    "duration": 4,
    "start_time": "2021-11-17T20:58:21.835Z"
   },
   {
    "duration": 3,
    "start_time": "2021-11-17T20:59:21.872Z"
   },
   {
    "duration": 4,
    "start_time": "2021-11-17T20:59:45.352Z"
   },
   {
    "duration": 4,
    "start_time": "2021-11-17T20:59:49.646Z"
   },
   {
    "duration": 159,
    "start_time": "2021-11-17T21:02:26.949Z"
   },
   {
    "duration": 3,
    "start_time": "2021-11-17T21:03:53.461Z"
   },
   {
    "duration": 3,
    "start_time": "2021-11-17T21:03:53.694Z"
   },
   {
    "duration": 3,
    "start_time": "2021-11-17T21:05:28.145Z"
   },
   {
    "duration": 116,
    "start_time": "2021-11-17T21:05:57.787Z"
   },
   {
    "duration": 3,
    "start_time": "2021-11-17T21:06:37.993Z"
   },
   {
    "duration": 3,
    "start_time": "2021-11-17T21:06:38.261Z"
   },
   {
    "duration": 3,
    "start_time": "2021-11-17T21:11:54.358Z"
   },
   {
    "duration": 3,
    "start_time": "2021-11-17T21:12:43.846Z"
   },
   {
    "duration": 4,
    "start_time": "2021-11-17T21:13:08.773Z"
   },
   {
    "duration": 3,
    "start_time": "2021-11-17T21:14:44.441Z"
   },
   {
    "duration": 3,
    "start_time": "2021-11-17T21:15:42.059Z"
   },
   {
    "duration": 4,
    "start_time": "2021-11-17T21:15:51.995Z"
   },
   {
    "duration": 3,
    "start_time": "2021-11-17T21:15:53.923Z"
   },
   {
    "duration": 3,
    "start_time": "2021-11-17T21:15:55.282Z"
   },
   {
    "duration": 3,
    "start_time": "2021-11-17T21:16:28.492Z"
   },
   {
    "duration": 3,
    "start_time": "2021-11-17T21:16:32.603Z"
   },
   {
    "duration": 3,
    "start_time": "2021-11-17T21:17:06.941Z"
   },
   {
    "duration": 98,
    "start_time": "2021-11-17T21:18:05.733Z"
   },
   {
    "duration": 4,
    "start_time": "2021-11-17T21:21:35.255Z"
   },
   {
    "duration": 3,
    "start_time": "2021-11-17T21:21:37.804Z"
   },
   {
    "duration": 4,
    "start_time": "2021-11-17T21:23:06.071Z"
   },
   {
    "duration": 3,
    "start_time": "2021-11-17T21:23:24.799Z"
   },
   {
    "duration": 3,
    "start_time": "2021-11-17T21:23:32.591Z"
   },
   {
    "duration": 98,
    "start_time": "2021-11-17T21:28:31.559Z"
   },
   {
    "duration": 3,
    "start_time": "2021-11-17T21:28:45.448Z"
   },
   {
    "duration": 3,
    "start_time": "2021-11-17T21:29:17.303Z"
   },
   {
    "duration": 3,
    "start_time": "2021-11-17T21:29:29.617Z"
   },
   {
    "duration": 3,
    "start_time": "2021-11-17T21:29:32.681Z"
   },
   {
    "duration": 3,
    "start_time": "2021-11-17T21:36:11.474Z"
   },
   {
    "duration": 3,
    "start_time": "2021-11-17T21:36:14.791Z"
   },
   {
    "duration": 3,
    "start_time": "2021-11-17T21:36:53.943Z"
   },
   {
    "duration": 3,
    "start_time": "2021-11-17T21:36:56.165Z"
   },
   {
    "duration": 4,
    "start_time": "2021-11-17T21:37:16.590Z"
   },
   {
    "duration": 3,
    "start_time": "2021-11-17T21:37:22.702Z"
   },
   {
    "duration": 4,
    "start_time": "2021-11-17T21:38:03.479Z"
   },
   {
    "duration": 3,
    "start_time": "2021-11-17T21:38:08.601Z"
   },
   {
    "duration": 3,
    "start_time": "2021-11-17T21:38:12.928Z"
   },
   {
    "duration": 3,
    "start_time": "2021-11-17T21:38:48.896Z"
   },
   {
    "duration": 2,
    "start_time": "2021-11-17T21:38:49.171Z"
   },
   {
    "duration": 4,
    "start_time": "2021-11-17T21:39:57.889Z"
   },
   {
    "duration": 3,
    "start_time": "2021-11-17T21:39:58.057Z"
   },
   {
    "duration": 3,
    "start_time": "2021-11-17T21:41:20.108Z"
   },
   {
    "duration": 3,
    "start_time": "2021-11-17T21:41:20.629Z"
   },
   {
    "duration": 3,
    "start_time": "2021-11-17T21:42:49.136Z"
   },
   {
    "duration": 3,
    "start_time": "2021-11-17T21:43:15.137Z"
   },
   {
    "duration": 4,
    "start_time": "2021-11-17T21:43:16.766Z"
   },
   {
    "duration": 4,
    "start_time": "2021-11-17T21:43:31.711Z"
   },
   {
    "duration": 3,
    "start_time": "2021-11-17T21:43:36.312Z"
   },
   {
    "duration": 4,
    "start_time": "2021-11-17T21:45:08.825Z"
   },
   {
    "duration": 4,
    "start_time": "2021-11-17T21:45:10.119Z"
   },
   {
    "duration": 4,
    "start_time": "2021-11-17T21:45:13.748Z"
   },
   {
    "duration": 3,
    "start_time": "2021-11-17T21:45:22.219Z"
   },
   {
    "duration": 3,
    "start_time": "2021-11-17T21:45:33.412Z"
   },
   {
    "duration": 2,
    "start_time": "2021-11-17T21:46:01.885Z"
   },
   {
    "duration": 3,
    "start_time": "2021-11-17T21:46:03.628Z"
   },
   {
    "duration": 107,
    "start_time": "2021-11-17T21:47:32.512Z"
   },
   {
    "duration": 103,
    "start_time": "2021-11-17T21:50:36.243Z"
   },
   {
    "duration": 3,
    "start_time": "2021-11-18T06:28:31.440Z"
   },
   {
    "duration": 3,
    "start_time": "2021-11-18T06:29:00.168Z"
   },
   {
    "duration": 3,
    "start_time": "2021-11-18T06:31:27.008Z"
   },
   {
    "duration": 2,
    "start_time": "2021-11-18T06:35:34.288Z"
   },
   {
    "duration": 2,
    "start_time": "2021-11-18T06:38:04.527Z"
   }
  ],
  "colab": {
   "provenance": []
  },
  "kernelspec": {
   "display_name": "Python 3 (ipykernel)",
   "language": "python",
   "name": "python3"
  },
  "language_info": {
   "codemirror_mode": {
    "name": "ipython",
    "version": 3
   },
   "file_extension": ".py",
   "mimetype": "text/x-python",
   "name": "python",
   "nbconvert_exporter": "python",
   "pygments_lexer": "ipython3",
   "version": "3.9.23"
  },
  "toc": {
   "base_numbering": 1,
   "nav_menu": {},
   "number_sections": true,
   "sideBar": true,
   "skip_h1_title": false,
   "title_cell": "Table of Contents",
   "title_sidebar": "Contents",
   "toc_cell": false,
   "toc_position": {},
   "toc_section_display": true,
   "toc_window_display": true
  }
 },
 "nbformat": 4,
 "nbformat_minor": 4
}
